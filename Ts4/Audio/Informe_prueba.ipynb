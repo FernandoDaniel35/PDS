{
 "cells": [
  {
   "cell_type": "markdown",
   "id": "6d61ab24-e496-4bf2-944e-66e1dd61bbda",
   "metadata": {},
   "source": [
    "<img src=\"./logo_UTN.svg\" align=\"right\" width=\"150\" /> \n",
    "\n",
    "\n",
    "<br><br>\n",
    "# **Análisis Espectral de Potencia (PSD) de Señal de Voz de prueba**\n",
    "\n",
    "### **1.1 Objetivo del Experimento**\n",
    "\n",
    "Estimar la PSD del archivo de voz prueba psd.wav utilizando los métodos de **Periodograma ventaneado**, **Welch** y **Blackman-Tukey** para comparar su desempeño al determinar el **ancho de banda (BW)**, una señal no estacionaria y ruidosa como la voz humana.\n",
    "\n",
    "### **1.3 Criterio de Ancho de Banda**\n",
    "\n",
    "El ancho de banda se define como el rango de frecuencias donde la PSD supera un umbral relativo del **${1\\%}$ (0.01)** de su valor máximo. Este umbral bajo captura las componentes de alta potencia, pero también es propenso a incluir ruido de baja y alta frecuencia.\n",
    "\n",
    "---\n",
    "\n",
    "## **2\\. Resultados de Ancho de Banda (Umbral 1%)**\n",
    "\n",
    "La siguiente tabla resume los resultados del cálculo del ancho de banda (BW) para la señal de voz:\n",
    "\n",
    "| Método | Frecuencia Baja (fbaja​) \\[Hz\\] | Frecuencia Alta (falta​) \\[Hz\\] | Ancho de Banda (BW) \\[Hz\\] |\n",
    "| :---- | :---- | :---- | :---- |\n",
    "| **Periodograma** | $0.0000$ | $2377.0000$ | ${2377.000}$ |\n",
    "| **Welch** | $23.4375$ | $1617.1875$ | ${1593.750}$ |\n",
    "| **Blackman–Tukey** | $0.0000$ | $1640.6250$ | ${1640.625}$ |\n",
    "\n",
    "---\n",
    "\n",
    "## **3\\. Análisis y Comparación de Métodos**\n",
    "\n",
    "### **3.1 Frecuencia Baja (${f_{{baja}}}$)**\n",
    "\n",
    "* **Periodograma y Blackman-Tukey** estiman ${f_{{baja}}} = 0 { Hz}$. Esto indica que una componente de **potencia DC** (o ruido de muy baja frecuencia) logró superar el umbral del $1\\%$. En el caso del Periodograma, esto es común debido a la alta varianza. En Blackman-Tukey, puede deberse a la ventana aplicada a la Función de Autocorrelación (ACF) y la potencia de frecuencia cero.  \n",
    "* **Welch** estima ${f_{{baja}}} = 23.44 { Hz}$. Este valor, aunque bajo, sugiere que el promediado en segmentos ayudó a **excluir la componente DC** pura o a mitigar el ruido de muy baja frecuencia, identificando la primera banda de potencia relevante por encima del ruido de fondo.\n",
    "\n",
    "### **3.2 Frecuencia Alta (${f_{{alta}}}$) y Ancho de Banda (${BW}$)**\n",
    "\n",
    "* **Welch y Blackman-Tukey** (Baja Varianza): Muestran una gran **consistencia**, estimando $f_{{alta}}$ alrededor de **$1.6 { kHz}$** y un BW promedio de $≈ 1617 { Hz}$. Estos métodos suavizan el ruido aleatorio, revelando que la **potencia estable y dominante** de la voz se concentra principalmente en esta banda de frecuencias.  \n",
    "* **Periodograma** (Alta Varianza): **Sobreestima** significativamente el ancho de banda, con $f_{{alta}}$ extendiéndose hasta ${2377 { Hz}}$ ($≈ 2.4 { kHz}$). Esto ocurre porque la falta de promediado permite que el **ruido aleatorio o los armónicos débiles** se eleven lo suficiente en picos aislados para superar el umbral del $1\\%$, inflando el resultado final.\n",
    "\n",
    "---\n",
    "\n",
    "## **4\\. Conclusiones**\n",
    "\n",
    "| Estimador | Varianza / Ruido | BW Obtenido | Adecuación para Voz |\n",
    "| :---- | :---- | :---- | :---- |\n",
    "| **Periodograma** | **Alta** (mucho ruido) | ${2377 { Hz}}$ (Sobreestimado) | **No recomendado** para análisis de BW con umbral, ya que el ruido distorsiona los resultados. |\n",
    "| **Welch** | **Baja** (muy suave) | ${1594 { Hz}}$ (Consistente) | **El más recomendado**. Suaviza el ruido y proporciona una estimación estable y representativa de la potencia central de la voz. |\n",
    "| **Blackman–Tukey** | **Baja** (suave) | ${1641 { Hz}}$ (Consistente) | **Muy bueno**. Confirma la estabilidad de Welch al encontrar un BW muy similar, aunque es más propenso a capturar $0 { Hz}$. |\n",
    "\n",
    "**Conclusión:** Los métodos de **baja varianza (Welch y Blackman-Tukey)** son superiores para el análisis de señales de voz, ya que proporcionan una estimación estable y reproducible del ancho de banda (alrededor de $1.6 { kHz}$), representando de forma más fiel la **banda de frecuencias de potencia estable** del hablante. El Periodograma es demasiado susceptible a los picos aleatorios de ruido, lo que falsea el ancho de banda real para un umbral del $1\\%$."
   ]
  }
 ],
 "metadata": {
  "kernelspec": {
   "display_name": "Python 3 (ipykernel)",
   "language": "python",
   "name": "python3"
  },
  "language_info": {
   "codemirror_mode": {
    "name": "ipython",
    "version": 3
   },
   "file_extension": ".py",
   "mimetype": "text/x-python",
   "name": "python",
   "nbconvert_exporter": "python",
   "pygments_lexer": "ipython3",
   "version": "3.13.5"
  }
 },
 "nbformat": 4,
 "nbformat_minor": 5
}
